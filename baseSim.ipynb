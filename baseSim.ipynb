{
 "cells": [
  {
   "cell_type": "code",
   "execution_count": 956,
   "metadata": {},
   "outputs": [],
   "source": [
    "import matplotlib.pyplot as plt\n",
    "from scipy import stats\n",
    "import numpy as np \n",
    "import random"
   ]
  },
  {
   "cell_type": "code",
   "execution_count": 957,
   "metadata": {},
   "outputs": [],
   "source": [
    "class Random_Variable: \n",
    "    def __init__(self, name, values, probability_distribution): \n",
    "        self.name = name \n",
    "        self.values = values \n",
    "        self.probability_distribution = probability_distribution \n",
    "        if all(type(item) is np.int64 for item in values): \n",
    "            self.type = 'numeric'\n",
    "            self.rv = stats.rv_discrete(name = name, values = (values, probability_distribution))\n",
    "        elif all(type(item) is str for item in values): \n",
    "            self.type = 'symbolic'\n",
    "            self.rv = stats.rv_discrete(name = name, values = (np.arange(len(values)), probability_distribution))\n",
    "            self.symbolic_values = values \n",
    "        else: \n",
    "            self.type = 'undefined'\n",
    "            \n",
    "    def sample(self,size): \n",
    "        if (self.type =='numeric'): \n",
    "            return self.rv.rvs(size=size)\n",
    "        elif (self.type == 'symbolic'): \n",
    "            numeric_samples = self.rv.rvs(size=size)\n",
    "            mapped_samples = [self.values[x] for x in numeric_samples]\n",
    "            return mapped_samples "
   ]
  },
  {
   "cell_type": "code",
   "execution_count": 958,
   "metadata": {},
   "outputs": [],
   "source": [
    "def diceRoll(sides):\n",
    "    return random.randrange(1,sides+1)\n",
    "\n",
    "def d20():\n",
    "    return random.randrange(1,21)"
   ]
  },
  {
   "cell_type": "code",
   "execution_count": 959,
   "metadata": {},
   "outputs": [],
   "source": [
    "def strikeHit(targetAC, hitResult):\n",
    "    # regular hit\n",
    "    if(hitResult>=targetAC+10):\n",
    "        return 2\n",
    "    elif(hitResult>=targetAC):\n",
    "        return 1\n",
    "    else:\n",
    "        return 0"
   ]
  },
  {
   "cell_type": "code",
   "execution_count": 960,
   "metadata": {},
   "outputs": [],
   "source": [
    "# Test \n",
    "\n",
    "attackDamage = 5 + 2*diceRoll(8)\n",
    "\n",
    "\n",
    "# Can the PC survive focus fire?\n",
    "pcHP = 156\n",
    "pcAC = 27\n",
    "\n",
    "def EhyreenAttack(pcAC,MAP):\n",
    "    return strikeHit(pcAC,25-MAP)* (2*diceRoll(8) + 13)\n",
    "\n",
    "def EhyreenAttack3xDMG(pcAC):\n",
    "    damage = 0\n",
    "    damage += EhyreenAttack(pcAC,0)\n",
    "    damage += EhyreenAttack(pcAC,5)\n",
    "    damage += EhyreenAttack(pcAC,10)\n",
    "    return damage\n",
    "\n",
    "\n"
   ]
  },
  {
   "cell_type": "code",
   "execution_count": 961,
   "metadata": {},
   "outputs": [],
   "source": [
    "# get did hit? damge, pipe that into, handle\n",
    "# PC class specific implementation, so, can reduce with shield. etc"
   ]
  },
  {
   "cell_type": "code",
   "execution_count": 962,
   "metadata": {},
   "outputs": [],
   "source": [
    "# samples = []\n",
    "# died = 0\n",
    "\n",
    "# trials = 10000\n",
    "# for i in range(1,10000):\n",
    "#     if(pcHP<EhyreenAttack3xDMG(pcAC)):\n",
    "#         died += 1\n",
    "\n",
    "# died = died/trials\n",
    "\n",
    "# print(died)\n"
   ]
  },
  {
   "cell_type": "code",
   "execution_count": 963,
   "metadata": {},
   "outputs": [],
   "source": [
    "# Inside methods, we can do all kinds special defensive things/logic\n",
    "\n",
    "# A level 9 orc fighter. They have toughhness, and adopted ancestry dwarf increasing hp\n",
    "# Orc Ferocity feature taken\n",
    "# Plate +1 armor\n",
    "# Standard max attack score(str) then con (18)\n",
    "class pc_lvl9OrcFighter:\n",
    "    def __init__(self):\n",
    "        self.actions = 3\n",
    "        self.reactions = 1\n",
    "        self.hpMax = 157\n",
    "        self.hp = self.hpMax\n",
    "        self.AC = 28\n",
    "\n",
    "        self.OrcFerocityTriggered = 0\n",
    "    \n",
    "    def turnStart():\n",
    "        self.actions = 3\n",
    "        self.reactions = 1\n",
    "\n",
    "    def CheckHit(self,attackRoll):\n",
    "        # Can implement on demand extra AC features here\n",
    "        return strikeHit(self.AC,attackRoll)\n",
    "    \n",
    "    # Ideally damage would be a struct, with different kinds of damage assigned.\n",
    "    def TakesDamage(self,damage):\n",
    "        #Orc Ferocity https://2e.aonprd.com/Feats.aspx?ID=4514\n",
    "        if(self.reactions and self.hp-damage<=0 and 2*damage < self.hpMax):\n",
    "            self.reactions = 0\n",
    "            self.hp = 1\n",
    "            self.OrcFerocityTriggered = 1\n",
    "            return\n",
    "        \n",
    "        self.hp -= damage\n",
    "\n",
    "        "
   ]
  },
  {
   "cell_type": "code",
   "execution_count": 964,
   "metadata": {},
   "outputs": [],
   "source": [
    "# Bog standard fighter\n",
    "class pc_lvl9HumanFighter:\n",
    "    def __init__(self):\n",
    "        self.actions = 3\n",
    "        self.reactions = 1\n",
    "        self.hpMax = 134\n",
    "        self.hp = self.hpMax\n",
    "        self.AC = 27\n",
    "    \n",
    "    def turnStart():\n",
    "        self.actions = 3\n",
    "        self.reactions = 1\n",
    "\n",
    "    def CheckHit(self,attackRoll):\n",
    "        # Can implement on demand extra AC features here\n",
    "        return strikeHit(self.AC,attackRoll)\n",
    "    \n",
    "    # Ideally damage would be a struct, with different kinds of damage assigned.\n",
    "    def TakesDamage(self,damage):\n",
    "        self.hp -= damage"
   ]
  },
  {
   "cell_type": "code",
   "execution_count": 965,
   "metadata": {},
   "outputs": [],
   "source": [
    "# Squishy elf air cleric (advanced domain spell ) Disperse into Air https://2e.aonprd.com/Spells.aspx?ID=1781\n",
    "# No hp boosts, 12 con, robes\n",
    "class pc_lvl9CloisteredCleric:\n",
    "    def __init__(self):\n",
    "        self.actions = 3\n",
    "        self.reactions = 1\n",
    "        self.hpMax = 87\n",
    "        self.hp = self.hpMax\n",
    "        self.AC = 23\n",
    "    \n",
    "    def turnStart():\n",
    "        self.actions = 3\n",
    "        self.reactions = 1\n",
    "\n",
    "    def CheckHit(self,attackRoll):\n",
    "        # Can implement on demand extra AC features here\n",
    "        return strikeHit(self.AC,attackRoll)\n",
    "    \n",
    "    # Ideally damage would be a struct, with different kinds of damage assigned.\n",
    "    def TakesDamage(self,damage):\n",
    "        self.hp -= damage"
   ]
  },
  {
   "cell_type": "code",
   "execution_count": 966,
   "metadata": {},
   "outputs": [],
   "source": [
    "# Squishy elf air cleric (advanced domain spell ) Disperse into Air https://2e.aonprd.com/Spells.aspx?ID=1781\n",
    "class pc_lvl9AirCleric:\n",
    "    def __init__(self):\n",
    "        self.actions = 3\n",
    "        self.reactions = 1\n",
    "        self.hpMax = 87\n",
    "        self.hp = self.hpMax\n",
    "        self.AC = 23\n",
    "\n",
    "        self.invuln = False\n",
    "    \n",
    "    def turnStart():\n",
    "        self.actions = 3\n",
    "        self.reactions = 1\n",
    "\n",
    "    def CheckHit(self,attackRoll):\n",
    "        # Can implement on demand extra AC features here\n",
    "        return strikeHit(self.AC,attackRoll)\n",
    "    \n",
    "    # Ideally damage would be a struct, with different kinds of damage assigned.\n",
    "    def TakesDamage(self,damage):\n",
    "        # Disperse into air used\n",
    "        if(self.reactions):\n",
    "            self.hp -= damage\n",
    "            self.reactions = 0\n",
    "            self.invuln = True\n",
    "            return\n",
    "        \n",
    "        if(not self.invuln):\n",
    "            self.hp -= damage"
   ]
  },
  {
   "cell_type": "code",
   "execution_count": 967,
   "metadata": {},
   "outputs": [],
   "source": [
    "# Sim does\n",
    "\n",
    "# 1 is hit, 2 crit, 0 miss\n",
    "# Make 3 attacks\n",
    "def Eriny3xAttacks(target):\n",
    "    mapArray = [0,-5,-10]\n",
    "    for curMap in mapArray:\n",
    "        ErinyHitResult = target.CheckHit(d20() + 25 - curMap)\n",
    "        if(ErinyHitResult>0):\n",
    "            # compute damage\n",
    "            damage = 2*diceRoll(8) + 6 + diceRoll(6) + diceRoll(6)\n",
    "\n",
    "            # factor in crit bonus\n",
    "            damage *= ErinyHitResult\n",
    "            \n",
    "            target.TakesDamage(damage)"
   ]
  },
  {
   "cell_type": "code",
   "execution_count": 968,
   "metadata": {},
   "outputs": [],
   "source": [
    "def Hamatula3xAttacks(target):\n",
    "    mapArray = [0,-5,-10]\n",
    "    for curMap in mapArray:\n",
    "        HitResult = target.CheckHit(d20() + 24 - curMap)\n",
    "        if(HitResult>0):\n",
    "            # compute damage\n",
    "            damage = 3*diceRoll(8) + 13 + diceRoll(6)\n",
    "\n",
    "            # factor in crit bonus\n",
    "            damage *= HitResult\n",
    "            \n",
    "            target.TakesDamage(damage)"
   ]
  },
  {
   "cell_type": "code",
   "execution_count": 969,
   "metadata": {},
   "outputs": [
    {
     "name": "stdout",
     "output_type": "stream",
     "text": [
      "0.05526\n",
      "0.2549\n"
     ]
    }
   ],
   "source": [
    "# PC\n",
    "# Tanky Orc fighter survivablity vs Hamatula 3x strikes\n",
    "\n",
    "samples = []\n",
    "\n",
    "died = 0\n",
    "OrcFerocityProccs = 0\n",
    "\n",
    "trials = 100000\n",
    "for i in range(1,trials):\n",
    "    testPC = pc_lvl9OrcFighter()\n",
    "    Hamatula3xAttacks(testPC)\n",
    "    died += testPC.hp<=0\n",
    "    OrcFerocityProccs += testPC.OrcFerocityTriggered\n",
    "\n",
    "print(died/trials)\n",
    "print(OrcFerocityProccs/trials)"
   ]
  },
  {
   "cell_type": "code",
   "execution_count": 970,
   "metadata": {},
   "outputs": [
    {
     "name": "stdout",
     "output_type": "stream",
     "text": [
      "0.63291\n"
     ]
    }
   ],
   "source": [
    "# Human fighter survivablity vs Hamatula 3x strikes\n",
    "died = 0\n",
    "\n",
    "trials = 100000\n",
    "for i in range(1,trials):\n",
    "    testPC = pc_lvl9HumanFighter()\n",
    "    Hamatula3xAttacks(testPC)\n",
    "    died += testPC.hp<=0\n",
    "\n",
    "print(died/trials)\n"
   ]
  },
  {
   "cell_type": "code",
   "execution_count": 971,
   "metadata": {},
   "outputs": [
    {
     "name": "stdout",
     "output_type": "stream",
     "text": [
      "0.99872\n"
     ]
    }
   ],
   "source": [
    "# Squishy cleric without air reaction\n",
    "died = 0\n",
    "\n",
    "trials = 100000\n",
    "for i in range(1,trials):\n",
    "    testPC = pc_lvl9CloisteredCleric()\n",
    "    Hamatula3xAttacks(testPC)\n",
    "    died += testPC.hp<=0\n",
    "\n",
    "print(died/trials)"
   ]
  },
  {
   "cell_type": "markdown",
   "metadata": {},
   "source": [
    "# Air cleric survivability vs single threat\n",
    "https://2e.aonprd.com/Domains.aspx?ID=65\n",
    "Air Domain\n",
    "Disperse into Air"
   ]
  },
  {
   "cell_type": "code",
   "execution_count": 972,
   "metadata": {},
   "outputs": [
    {
     "name": "stdout",
     "output_type": "stream",
     "text": [
      "0.0\n"
     ]
    }
   ],
   "source": [
    "# Air cleric (w/ Reaction after taking first instance of dmg)\n",
    "# Survivability vs Hamatula 3x strikes\n",
    "\n",
    "died = 0\n",
    "\n",
    "trials = 100000\n",
    "for i in range(1,trials):\n",
    "    testPC = pc_lvl9AirCleric()\n",
    "    Hamatula3xAttacks(testPC)\n",
    "    died += testPC.hp<=0\n",
    "\n",
    "print(died/trials)"
   ]
  },
  {
   "cell_type": "markdown",
   "metadata": {},
   "source": [
    "Most strike base enemies don't have enough damage to kill in one strike. And that's max number strikes an single enemy gets vs air cleric reaction\n",
    "\n",
    "-> Vs multiple enemies this won't be nearly as effective.\n"
   ]
  }
 ],
 "metadata": {
  "kernelspec": {
   "display_name": "Python 3",
   "language": "python",
   "name": "python3"
  },
  "language_info": {
   "codemirror_mode": {
    "name": "ipython",
    "version": 3
   },
   "file_extension": ".py",
   "mimetype": "text/x-python",
   "name": "python",
   "nbconvert_exporter": "python",
   "pygments_lexer": "ipython3",
   "version": "3.11.5"
  }
 },
 "nbformat": 4,
 "nbformat_minor": 2
}
