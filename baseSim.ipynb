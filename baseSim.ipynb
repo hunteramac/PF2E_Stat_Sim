{
 "cells": [
  {
   "cell_type": "code",
   "execution_count": 864,
   "metadata": {},
   "outputs": [],
   "source": [
    "import matplotlib.pyplot as plt\n",
    "from scipy import stats\n",
    "import numpy as np \n",
    "import random"
   ]
  },
  {
   "cell_type": "code",
   "execution_count": 865,
   "metadata": {},
   "outputs": [],
   "source": [
    "class Random_Variable: \n",
    "    def __init__(self, name, values, probability_distribution): \n",
    "        self.name = name \n",
    "        self.values = values \n",
    "        self.probability_distribution = probability_distribution \n",
    "        if all(type(item) is np.int64 for item in values): \n",
    "            self.type = 'numeric'\n",
    "            self.rv = stats.rv_discrete(name = name, values = (values, probability_distribution))\n",
    "        elif all(type(item) is str for item in values): \n",
    "            self.type = 'symbolic'\n",
    "            self.rv = stats.rv_discrete(name = name, values = (np.arange(len(values)), probability_distribution))\n",
    "            self.symbolic_values = values \n",
    "        else: \n",
    "            self.type = 'undefined'\n",
    "            \n",
    "    def sample(self,size): \n",
    "        if (self.type =='numeric'): \n",
    "            return self.rv.rvs(size=size)\n",
    "        elif (self.type == 'symbolic'): \n",
    "            numeric_samples = self.rv.rvs(size=size)\n",
    "            mapped_samples = [self.values[x] for x in numeric_samples]\n",
    "            return mapped_samples "
   ]
  },
  {
   "cell_type": "code",
   "execution_count": 866,
   "metadata": {},
   "outputs": [],
   "source": [
    "def diceRoll(sides):\n",
    "    return random.randrange(1,sides+1)\n",
    "\n",
    "def d20():\n",
    "    return random.randrange(1,21)"
   ]
  },
  {
   "cell_type": "code",
   "execution_count": 867,
   "metadata": {},
   "outputs": [],
   "source": [
    "def strikeHit(targetAC, hitResult):\n",
    "    # regular hit\n",
    "    if(hitResult>=targetAC+10):\n",
    "        return 2\n",
    "    elif(hitResult>=targetAC):\n",
    "        return 1\n",
    "    else:\n",
    "        return 0"
   ]
  },
  {
   "cell_type": "code",
   "execution_count": 868,
   "metadata": {},
   "outputs": [],
   "source": [
    "# Test \n",
    "\n",
    "attackDamage = 5 + 2*diceRoll(8)\n",
    "\n",
    "\n",
    "# Can the PC survive focus fire?\n",
    "pcHP = 156\n",
    "pcAC = 27\n",
    "\n",
    "def EhyreenAttack(pcAC,MAP):\n",
    "    return strikeHit(pcAC,25-MAP)* (2*diceRoll(8) + 13)\n",
    "\n",
    "def EhyreenAttack3xDMG(pcAC):\n",
    "    damage = 0\n",
    "    damage += EhyreenAttack(pcAC,0)\n",
    "    damage += EhyreenAttack(pcAC,5)\n",
    "    damage += EhyreenAttack(pcAC,10)\n",
    "    return damage\n",
    "\n",
    "\n"
   ]
  },
  {
   "cell_type": "code",
   "execution_count": 869,
   "metadata": {},
   "outputs": [],
   "source": [
    "# get did hit? damge, pipe that into, handle\n",
    "# PC class specific implementation, so, can reduce with shield. etc"
   ]
  },
  {
   "cell_type": "code",
   "execution_count": 870,
   "metadata": {},
   "outputs": [],
   "source": [
    "# samples = []\n",
    "# died = 0\n",
    "\n",
    "# trials = 10000\n",
    "# for i in range(1,10000):\n",
    "#     if(pcHP<EhyreenAttack3xDMG(pcAC)):\n",
    "#         died += 1\n",
    "\n",
    "# died = died/trials\n",
    "\n",
    "# print(died)\n"
   ]
  },
  {
   "cell_type": "code",
   "execution_count": 871,
   "metadata": {},
   "outputs": [],
   "source": [
    "# Inside methods, we can do all kinds special defensive things/logic\n",
    "class pcOrc:\n",
    "    def __init__(self):\n",
    "        self.actions = 3\n",
    "        self.reactions = 1\n",
    "        self.hpMax = 157\n",
    "        self.hp = self.hpMax\n",
    "        self.AC = 27\n",
    "\n",
    "        self.OrcFerocityTriggered = 0\n",
    "    \n",
    "    def turnStart():\n",
    "        self.actions = 3\n",
    "        self.reactions = 1\n",
    "\n",
    "    def CheckHit(self,attackRoll):\n",
    "        # Can implement on demand extra AC features here\n",
    "        return strikeHit(self.AC,attackRoll)\n",
    "    \n",
    "    # Ideally damage would be a struct, with different kinds of damage assigned.\n",
    "    def TakesDamage(self,damage):\n",
    "        #Orc Ferocity https://2e.aonprd.com/Feats.aspx?ID=4514\n",
    "        if(self.reactions and self.hp-damage<=0 and 2*damage < self.hpMax):\n",
    "            self.reactions = 0\n",
    "            self.hp = 1\n",
    "            self.OrcFerocityTriggered = 1\n",
    "            return\n",
    "        \n",
    "        self.hp -= damage\n",
    "\n",
    "        "
   ]
  },
  {
   "cell_type": "code",
   "execution_count": 872,
   "metadata": {},
   "outputs": [],
   "source": [
    "# Sim does\n",
    "\n",
    "# 1 is hit, 2 crit, 0 miss\n",
    "# Make 3 attacks\n",
    "def Eriny3xAttacks(target):\n",
    "    mapArray = [0,-5,-10]\n",
    "    for curMap in mapArray:\n",
    "        ErinyHitResult = target.CheckHit(d20() + 25 - curMap)\n",
    "        if(ErinyHitResult>0):\n",
    "            # compute damage\n",
    "            damage = 2*diceRoll(8) + 6 + diceRoll(6) + diceRoll(6)\n",
    "\n",
    "            # factor in crit bonus\n",
    "            damage *= ErinyHitResult\n",
    "            \n",
    "            target.TakesDamage(damage)"
   ]
  },
  {
   "cell_type": "code",
   "execution_count": 873,
   "metadata": {},
   "outputs": [],
   "source": [
    "def Hamatula3xAttacks(target):\n",
    "    mapArray = [0,-5,-10]\n",
    "    for curMap in mapArray:\n",
    "        HitResult = target.CheckHit(d20() + 24 - curMap)\n",
    "        if(HitResult>0):\n",
    "            # compute damage\n",
    "            damage = 3*diceRoll(8) + 13 + diceRoll(6)\n",
    "\n",
    "            # factor in crit bonus\n",
    "            damage *= HitResult\n",
    "            \n",
    "            target.TakesDamage(damage)"
   ]
  },
  {
   "cell_type": "code",
   "execution_count": 874,
   "metadata": {},
   "outputs": [
    {
     "name": "stdout",
     "output_type": "stream",
     "text": [
      "0.36988\n",
      "0.0\n"
     ]
    }
   ],
   "source": [
    "# PC\n",
    "# Does PC get 1 turned\n",
    "\n",
    "samples = []\n",
    "\n",
    "died = 0\n",
    "OrcFerocityProccs = 0\n",
    "\n",
    "trials = 100000\n",
    "for i in range(1,trials):\n",
    "    testPC = pcOrc()\n",
    "    Hamatula3xAttacks(testPC)\n",
    "    died += testPC.hp<=0\n",
    "    OrcFerocityProccs += testPC.OrcFerocityTriggered\n",
    "\n",
    "print(died/trials)\n",
    "print(OrcFerocityProccs/trials)"
   ]
  }
 ],
 "metadata": {
  "kernelspec": {
   "display_name": "Python 3",
   "language": "python",
   "name": "python3"
  },
  "language_info": {
   "codemirror_mode": {
    "name": "ipython",
    "version": 3
   },
   "file_extension": ".py",
   "mimetype": "text/x-python",
   "name": "python",
   "nbconvert_exporter": "python",
   "pygments_lexer": "ipython3",
   "version": "3.11.5"
  }
 },
 "nbformat": 4,
 "nbformat_minor": 2
}
