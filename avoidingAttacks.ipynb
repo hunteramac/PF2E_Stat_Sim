{
 "cells": [
  {
   "cell_type": "code",
   "execution_count": 111,
   "metadata": {},
   "outputs": [],
   "source": [
    "import matplotlib.pyplot as plt\n",
    "from scipy import stats\n",
    "import numpy as np \n",
    "import random"
   ]
  },
  {
   "cell_type": "markdown",
   "metadata": {},
   "source": [
    "# Survivability (dying in 1 turn or not) of a baseline fighter based on their position from enemy end of turn.\n",
    "Hypothesis, as per general community knowlege regarding system, when the enemy is dangerous, ensuring they only gets two attacks instead of 3 is high value (step or stride)."
   ]
  },
  {
   "cell_type": "code",
   "execution_count": 112,
   "metadata": {},
   "outputs": [],
   "source": [
    "# helper functions to get stat given lvl\n",
    "def getMaxingConSecond(lvl):\n",
    "    if (lvl<5):\n",
    "        return 3\n",
    "    elif(lvl<15):\n",
    "        return 4\n",
    "    else:\n",
    "        return 5\n",
    "    \n",
    "def fighterArmorProfBonus(lvl):\n",
    "    # trained\n",
    "    if(lvl<11):\n",
    "        return 2 + lvl\n",
    "    # expert\n",
    "    elif(lvl<17):\n",
    "        return 4 + lvl\n",
    "    else:\n",
    "        return 6 + lvl\n",
    "    \n",
    "# https://2e.aonprd.com/Equipment.aspx?ID=2785\n",
    "def scalingPlate(lvl):\n",
    "    AC = 10 + 6 + fighterArmorProfBonus(lvl)\n",
    "    if(lvl<5):\n",
    "        return AC\n",
    "    elif(lvl<11):\n",
    "        return AC +1\n",
    "    elif(lvl<18):\n",
    "        return AC + 2\n",
    "    else:\n",
    "        return AC + 3"
   ]
  },
  {
   "cell_type": "code",
   "execution_count": 113,
   "metadata": {},
   "outputs": [],
   "source": [
    "# Checks for crit, use return type as a multiplier\n",
    "def strikeHit(targetAC, hitResult):\n",
    "    # regular hit\n",
    "    if(hitResult>=targetAC+10):\n",
    "        return 2\n",
    "    elif(hitResult>=targetAC):\n",
    "        return 1\n",
    "    else:\n",
    "        return 0"
   ]
  },
  {
   "cell_type": "code",
   "execution_count": 114,
   "metadata": {},
   "outputs": [],
   "source": [
    "# A generic fighter's defenses scaling with lvl\n",
    "class Valeros:\n",
    "    def __init__(self,lvl):\n",
    "        self.actions = 3\n",
    "        self.reactions = 1\n",
    "        self.conMod = getMaxingConSecond(lvl)\n",
    "        self.hpMax = 8 + lvl * (10 + self.conMod)\n",
    "        self.hp = self.hpMax\n",
    "        self.AC = scalingPlate(lvl)\n",
    "    \n",
    "    def regainActions():\n",
    "        self.actions = 3\n",
    "        self.reactions = 1\n",
    "\n",
    "    def TurnStart():\n",
    "        self.regainActions()\n",
    "\n",
    "    def CheckHit(self,attackRoll):\n",
    "        return strikeHit(self.AC,attackRoll)\n",
    "    \n",
    "    def TakesDamage(self,damage):\n",
    "        self.hp -= damage"
   ]
  },
  {
   "cell_type": "code",
   "execution_count": 115,
   "metadata": {},
   "outputs": [
    {
     "name": "stdout",
     "output_type": "stream",
     "text": [
      "78\n",
      "24\n"
     ]
    }
   ],
   "source": [
    "testFighter = Valeros(5)\n",
    "\n",
    "print(testFighter.hpMax)\n",
    "print(testFighter.AC)"
   ]
  },
  {
   "cell_type": "code",
   "execution_count": 116,
   "metadata": {},
   "outputs": [],
   "source": [
    "#https://2e.aonprd.com/Rules.aspx?ID=2874\n",
    "strikeAttackBonus_Extreme = {\n",
    "-1 :\t10,\n",
    "0 :\t10,\n",
    "1 :\t11,\n",
    "2 :\t13,\n",
    "3 :\t14,\n",
    "4 :\t16,\n",
    "5 :\t17,\n",
    "6 :\t19,\n",
    "7 :\t20,\n",
    "8 :\t22,\n",
    "9 :\t23,\n",
    "10 :\t25,\n",
    "11 :\t27,\n",
    "12 :\t28,\n",
    "13 :\t29,\n",
    "14 :\t31,\n",
    "15 :\t32,\n",
    "16 :\t34,\n",
    "17 :\t35,\n",
    "18 :\t37,\n",
    "19 :\t38,\n",
    "20 :\t40,\n",
    "21 :\t41,\n",
    "22 :\t43,\n",
    "23 :\t44,\n",
    "24 :\t46\n",
    "}\n",
    "\n",
    "def extremeStrikeAttackBonus(lvl):\n",
    "    useLvl = np.clip(lvl,-1,24)\n",
    "    return strikeAttackBonus_Extreme[useLvl]\n",
    " \n"
   ]
  },
  {
   "cell_type": "code",
   "execution_count": 117,
   "metadata": {},
   "outputs": [],
   "source": [
    "def d20():\n",
    "    return random.randrange(1,21)\n",
    "\n",
    "def diceRoll(sides):\n",
    "    return random.randrange(1, sides+1)"
   ]
  },
  {
   "cell_type": "code",
   "execution_count": 118,
   "metadata": {},
   "outputs": [],
   "source": [
    "strikeDamage_Extreme = {\n",
    "    -1 : lambda: diceRoll(6) + 1,\n",
    "    0 : lambda:  diceRoll(6) + 3,\n",
    "    1 : lambda:  diceRoll(8) + 4,\n",
    "    2 : lambda:  diceRoll(12) + 4,\n",
    "    3 : lambda:  diceRoll(12) + 8,\n",
    "    4 : lambda:  2*diceRoll(10) + 7,\n",
    "    5 : lambda:  2*diceRoll(12) + 7,\n",
    "    6 : lambda:  2*diceRoll(12) + 10,\n",
    "    7 : lambda:  2*diceRoll(12) + 12,\n",
    "    8 : lambda:  2*diceRoll(12) + 15,\n",
    "    9 : lambda:  2*diceRoll(12) + 17,\n",
    "    10 : lambda:  2*diceRoll(12) + 20,\n",
    "    11 : lambda:  2*diceRoll(12) + 22,\n",
    "    12 : lambda:  3*diceRoll(12) + 19,\n",
    "    13 : lambda:  3*diceRoll(12) + 21,\n",
    "    14 : lambda:  3*diceRoll(12) + 24,\n",
    "    15 : lambda:  3*diceRoll(12) + 26,\n",
    "    16 : lambda:  3*diceRoll(12) + 29,\n",
    "    17 : lambda:  3*diceRoll(12) + 31,\n",
    "    18 : lambda:  3*diceRoll(12) + 34,\n",
    "    19 : lambda:  4*diceRoll(12) + 29,\n",
    "    20 : lambda:  4*diceRoll(12) + 32,\n",
    "    21 : lambda:  4*diceRoll(12) + 34,\n",
    "    22 : lambda:  4*diceRoll(12) + 37,\n",
    "    23 : lambda:  4*diceRoll(12) + 39,\n",
    "    24 : lambda:  4*diceRoll(12) + 42,\n",
    "}\n",
    "\n",
    "def extremeStrikeDamage(lvl):\n",
    "    useLvl = np.clip(lvl,-1,24)\n",
    "    return strikeDamage_Extreme[useLvl]()"
   ]
  },
  {
   "cell_type": "code",
   "execution_count": 119,
   "metadata": {},
   "outputs": [
    {
     "data": {
      "text/plain": [
       "56"
      ]
     },
     "execution_count": 119,
     "metadata": {},
     "output_type": "execute_result"
    }
   ],
   "source": [
    "extremeStrikeDamage(15)"
   ]
  },
  {
   "cell_type": "markdown",
   "metadata": {},
   "source": [
    "## Sim 1 :: Fighter ends turn such that extreme threat enemy melee enemy 4x lvls above fighter can only make one attack"
   ]
  },
  {
   "cell_type": "markdown",
   "metadata": {},
   "source": []
  },
  {
   "cell_type": "code",
   "execution_count": 120,
   "metadata": {},
   "outputs": [],
   "source": [
    "samples_died = []\n",
    "\n",
    "trials = 100000\n",
    "for lvl in range(1,21):\n",
    "    died = 0\n",
    "    for i in range(1,trials):\n",
    "        testPC = Valeros(lvl)\n",
    "\n",
    "        # get hit result\n",
    "        hitResult = d20() + extremeStrikeAttackBonus(lvl+4)\n",
    "        didItHit = testPC.CheckHit(hitResult)\n",
    "        if(didItHit):\n",
    "            testPC.TakesDamage(didItHit*extremeStrikeDamage(lvl+4))\n",
    "\n",
    "\n",
    "        died += testPC.hp<=0\n",
    "    \n",
    "    # get likelihood\n",
    "    samples_died.append(died/trials)\n",
    "\n"
   ]
  },
  {
   "cell_type": "code",
   "execution_count": 121,
   "metadata": {},
   "outputs": [
    {
     "name": "stdout",
     "output_type": "stream",
     "text": [
      "[0.66126, 0.41683, 0.29039, 0.2299, 0.08463, 0.0, 0.0, 0.0, 0.0, 0.0, 0.0, 0.0, 0.0, 0.0, 0.0, 0.0, 0.0, 0.0, 0.0, 0.0]\n"
     ]
    },
    {
     "data": {
      "image/png": "[encoded data removed]",
      "text/plain": [
       "<Figure size 640x480 with 1 Axes>"
      ]
     },
     "metadata": {},
     "output_type": "display_data"
    }
   ],
   "source": [
    "plt.xticks(range(1,21))\n",
    "plt.xlabel(\"Fighter lvl (+4 lvl enemy)\")\n",
    "plt.ylabel(\"Likelihood of death\")\n",
    "plt.bar(range(1,21),samples_died)\n",
    "\n",
    "print(samples_died)"
   ]
  },
  {
   "cell_type": "markdown",
   "metadata": {},
   "source": [
    "## Sim 2 :: Fighter ends turn such that extreme threat melee enemy can make 2x attacks"
   ]
  },
  {
   "cell_type": "code",
   "execution_count": 122,
   "metadata": {},
   "outputs": [],
   "source": [
    "samples_died = []\n",
    "\n",
    "trials = 100000\n",
    "for lvl in range(1,21):\n",
    "    died = 0\n",
    "    for i in range(1,trials):\n",
    "        testPC = Valeros(lvl)\n",
    "\n",
    "        # get hit result\n",
    "        map = [0,5]\n",
    "        for curMap in map:\n",
    "            hitResult = d20() + extremeStrikeAttackBonus(lvl+4) - curMap\n",
    "            didItHit = testPC.CheckHit(hitResult)\n",
    "            if(didItHit):\n",
    "                testPC.TakesDamage(didItHit*extremeStrikeDamage(lvl+4))\n",
    "\n",
    "\n",
    "        died += testPC.hp<=0\n",
    "    \n",
    "    # get likelihood\n",
    "    samples_died.append(died/trials)"
   ]
  },
  {
   "cell_type": "code",
   "execution_count": 123,
   "metadata": {},
   "outputs": [
    {
     "name": "stdout",
     "output_type": "stream",
     "text": [
      "[0.88165, 0.82626, 0.71731, 0.68142, 0.43577, 0.43942, 0.42144, 0.38071, 0.31444, 0.32386, 0.16029, 0.16973, 0.13065, 0.14173, 0.08048, 0.09938, 0.05182, 0.0415, 0.03242, 0.03991]\n"
     ]
    },
    {
     "data": {
      "image/png": "[encoded data removed]",
      "text/plain": [
       "<Figure size 640x480 with 1 Axes>"
      ]
     },
     "metadata": {},
     "output_type": "display_data"
    }
   ],
   "source": [
    "plt.xticks(range(1,21))\n",
    "plt.xlabel(\"Fighter lvl (+4 lvl enemy)\")\n",
    "plt.ylabel(\"Likelihood of death\")\n",
    "plt.bar(range(1,21),samples_died)\n",
    "\n",
    "print(samples_died)"
   ]
  },
  {
   "cell_type": "markdown",
   "metadata": {},
   "source": [
    "Sim 3 :: Fighter ends turn within reach of extreme threat melee enemy, 3x attacks incoming (Map applies)"
   ]
  },
  {
   "cell_type": "code",
   "execution_count": 124,
   "metadata": {},
   "outputs": [],
   "source": [
    "samples_died = []\n",
    "\n",
    "trials = 100000\n",
    "for lvl in range(1,21):\n",
    "    died = 0\n",
    "    for i in range(1,trials):\n",
    "        testPC = Valeros(lvl)\n",
    "\n",
    "        # get hit result\n",
    "        map = [0,5,10]\n",
    "        for curMap in map:\n",
    "            hitResult = d20() + extremeStrikeAttackBonus(lvl+4) - curMap\n",
    "            didItHit = testPC.CheckHit(hitResult)\n",
    "            if(didItHit):\n",
    "                testPC.TakesDamage(didItHit*extremeStrikeDamage(lvl+4))\n",
    "\n",
    "\n",
    "        died += testPC.hp<=0\n",
    "    \n",
    "    # get likelihood\n",
    "    samples_died.append(died/trials)"
   ]
  },
  {
   "cell_type": "code",
   "execution_count": 125,
   "metadata": {},
   "outputs": [
    {
     "name": "stdout",
     "output_type": "stream",
     "text": [
      "[0.92864, 0.90797, 0.82953, 0.82487, 0.6233, 0.65206, 0.65895, 0.61308, 0.54993, 0.59644, 0.30705, 0.36786, 0.3254, 0.38619, 0.26989, 0.34024, 0.17495, 0.16362, 0.14076, 0.19596]\n"
     ]
    },
    {
     "data": {
      "image/png": "[encoded data removed]",
      "text/plain": [
       "<Figure size 640x480 with 1 Axes>"
      ]
     },
     "metadata": {},
     "output_type": "display_data"
    }
   ],
   "source": [
    "plt.xticks(range(1,21))\n",
    "plt.xlabel(\"Fighter lvl (+4 lvl enemy)\")\n",
    "plt.ylabel(\"Likelihood of death\")\n",
    "plt.bar(range(1,21),samples_died)\n",
    "\n",
    "print(samples_died)"
   ]
  },
  {
   "cell_type": "markdown",
   "metadata": {},
   "source": [
    "# Experimental results\n",
    "\n",
    "Besides mitigating attacks by not ending turn next to enemy, AC increase has an enormous impact on likelihood of death when number attacks  (Runes increase at 5 and 11 correspond to massive drop in likelihood of death for the fighter).\n",
    "\n",
    "However, this discrepancy drops when monster can make 3 attacks. Presumably because the monster needs to crit when it's making less attacks to eliminate the fighter, whereaeas with 3 attacks there's more likeli regular hits to chip fighter down."
   ]
  }
 ],
 "metadata": {
  "kernelspec": {
   "display_name": "Python 3",
   "language": "python",
   "name": "python3"
  },
  "language_info": {
   "codemirror_mode": {
    "name": "ipython",
    "version": 3
   },
   "file_extension": ".py",
   "mimetype": "text/x-python",
   "name": "python",
   "nbconvert_exporter": "python",
   "pygments_lexer": "ipython3",
   "version": "3.11.9"
  }
 },
 "nbformat": 4,
 "nbformat_minor": 2
}
